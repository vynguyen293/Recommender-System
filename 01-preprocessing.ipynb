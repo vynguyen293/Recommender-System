{
 "cells": [
  {
   "cell_type": "markdown",
   "id": "c338ec3b",
   "metadata": {},
   "source": [
    "# Project 2: Recommender System"
   ]
  },
  {
   "cell_type": "markdown",
   "id": "6ba6d3e4",
   "metadata": {},
   "source": [
    "## I. Data Pre-processing"
   ]
  },
  {
   "cell_type": "code",
   "execution_count": 1,
   "id": "8e5647df",
   "metadata": {},
   "outputs": [
    {
     "name": "stdout",
     "output_type": "stream",
     "text": [
      "importing Jupyter notebook from lib_nlp.ipynb\n"
     ]
    }
   ],
   "source": [
    "import numpy as np\n",
    "import pandas as pd\n",
    "import matplotlib.pyplot as plt\n",
    "import seaborn as sns\n",
    "import sqlite3 as sql\n",
    "import difflib\n",
    "import re\n",
    "import json\n",
    "import os\n",
    "from underthesea import word_tokenize, pos_tag, sent_tokenize\n",
    "import regex\n",
    "import demoji\n",
    "from pyvi import ViPosTagger, ViTokenizer\n",
    "import string\n",
    "import import_ipynb\n",
    "import lib_nlp as func\n",
    "import warnings\n",
    "warnings.filterwarnings('ignore')"
   ]
  },
  {
   "cell_type": "markdown",
   "id": "89958f21",
   "metadata": {},
   "source": [
    "## I.1. Product"
   ]
  },
  {
   "cell_type": "code",
   "execution_count": 2,
   "id": "e1f953b9",
   "metadata": {},
   "outputs": [],
   "source": [
    "products = pd.read_csv('data/ProductRaw.csv')"
   ]
  },
  {
   "cell_type": "code",
   "execution_count": 3,
   "id": "2a7234e5",
   "metadata": {},
   "outputs": [
    {
     "data": {
      "text/html": [
       "<div>\n",
       "<style scoped>\n",
       "    .dataframe tbody tr th:only-of-type {\n",
       "        vertical-align: middle;\n",
       "    }\n",
       "\n",
       "    .dataframe tbody tr th {\n",
       "        vertical-align: top;\n",
       "    }\n",
       "\n",
       "    .dataframe thead th {\n",
       "        text-align: right;\n",
       "    }\n",
       "</style>\n",
       "<table border=\"1\" class=\"dataframe\">\n",
       "  <thead>\n",
       "    <tr style=\"text-align: right;\">\n",
       "      <th></th>\n",
       "      <th>item_id</th>\n",
       "      <th>name</th>\n",
       "      <th>description</th>\n",
       "      <th>rating</th>\n",
       "      <th>price</th>\n",
       "      <th>list_price</th>\n",
       "      <th>brand</th>\n",
       "      <th>group</th>\n",
       "      <th>url</th>\n",
       "      <th>image</th>\n",
       "    </tr>\n",
       "  </thead>\n",
       "  <tbody>\n",
       "    <tr>\n",
       "      <th>0</th>\n",
       "      <td>48102821</td>\n",
       "      <td>Tai nghe Bluetooth Inpods 12 - Cảm biến vân ta...</td>\n",
       "      <td>THÔNG TIN CHI TIẾT\\nDung lượng pin 300\\nThời g...</td>\n",
       "      <td>4.0</td>\n",
       "      <td>77000</td>\n",
       "      <td>300000</td>\n",
       "      <td>OEM</td>\n",
       "      <td>Thiết Bị Số - Phụ Kiện Số/Thiết Bị Âm Thanh và...</td>\n",
       "      <td>https://tai-nghe-bluetooth-inpods-12-cam-bien-...</td>\n",
       "      <td>https://salt.tikicdn.com/cache/280x280/ts/prod...</td>\n",
       "    </tr>\n",
       "    <tr>\n",
       "      <th>1</th>\n",
       "      <td>52333193</td>\n",
       "      <td>Tai nghe bluetooth không dây F9 True wireless ...</td>\n",
       "      <td>THÔNG TIN CHI TIẾT\\nDung lượng pin 2000mah\\nTh...</td>\n",
       "      <td>4.5</td>\n",
       "      <td>132000</td>\n",
       "      <td>750000</td>\n",
       "      <td>OEM</td>\n",
       "      <td>Thiết Bị Số - Phụ Kiện Số/Thiết Bị Âm Thanh và...</td>\n",
       "      <td>https://tai-nghe-bluetooth-khong-day-f9-true-w...</td>\n",
       "      <td>https://salt.tikicdn.com/cache/280x280/ts/prod...</td>\n",
       "    </tr>\n",
       "    <tr>\n",
       "      <th>2</th>\n",
       "      <td>299461</td>\n",
       "      <td>Chuột Không Dây Logitech M331 Silent - Hàng Ch...</td>\n",
       "      <td>THÔNG TIN CHI TIẾT\\nThương hiệu Logitech\\nĐộ p...</td>\n",
       "      <td>4.8</td>\n",
       "      <td>299000</td>\n",
       "      <td>399000</td>\n",
       "      <td>Logitech</td>\n",
       "      <td>Thiết Bị Số - Phụ Kiện Số/Phụ kiện máy tính và...</td>\n",
       "      <td>https://chuot-khong-day-logitech-m331-silent-p...</td>\n",
       "      <td>https://salt.tikicdn.com/cache/280x280/media/c...</td>\n",
       "    </tr>\n",
       "    <tr>\n",
       "      <th>3</th>\n",
       "      <td>57440329</td>\n",
       "      <td>Loa Bluetooth 5.0 Kiêm Đồng Hồ Báo Thức - [[ 2...</td>\n",
       "      <td>THÔNG TIN CHI TIẾT\\nThương hiệu Acome\\nXuất xứ...</td>\n",
       "      <td>4.7</td>\n",
       "      <td>149000</td>\n",
       "      <td>350000</td>\n",
       "      <td>Acome</td>\n",
       "      <td>Thiết Bị Số - Phụ Kiện Số/Thiết Bị Âm Thanh và...</td>\n",
       "      <td>https://loa-bluetooth-5-0-kiem-dong-ho-bao-thu...</td>\n",
       "      <td>https://salt.tikicdn.com/cache/280x280/ts/prod...</td>\n",
       "    </tr>\n",
       "    <tr>\n",
       "      <th>4</th>\n",
       "      <td>38458616</td>\n",
       "      <td>Tai Nghe Bluetooth Apple AirPods Pro True Wire...</td>\n",
       "      <td>THÔNG TIN CHI TIẾT\\nThương hiệu Apple\\nXuất xứ...</td>\n",
       "      <td>4.8</td>\n",
       "      <td>5090000</td>\n",
       "      <td>8500000</td>\n",
       "      <td>Apple</td>\n",
       "      <td>Thiết Bị Số - Phụ Kiện Số/Thiết Bị Âm Thanh và...</td>\n",
       "      <td>https://tai-nghe-bluetooth-apple-airpods-pro-t...</td>\n",
       "      <td>https://salt.tikicdn.com/cache/280x280/ts/prod...</td>\n",
       "    </tr>\n",
       "  </tbody>\n",
       "</table>\n",
       "</div>"
      ],
      "text/plain": [
       "    item_id                                               name  \\\n",
       "0  48102821  Tai nghe Bluetooth Inpods 12 - Cảm biến vân ta...   \n",
       "1  52333193  Tai nghe bluetooth không dây F9 True wireless ...   \n",
       "2    299461  Chuột Không Dây Logitech M331 Silent - Hàng Ch...   \n",
       "3  57440329  Loa Bluetooth 5.0 Kiêm Đồng Hồ Báo Thức - [[ 2...   \n",
       "4  38458616  Tai Nghe Bluetooth Apple AirPods Pro True Wire...   \n",
       "\n",
       "                                         description  rating    price  \\\n",
       "0  THÔNG TIN CHI TIẾT\\nDung lượng pin 300\\nThời g...     4.0    77000   \n",
       "1  THÔNG TIN CHI TIẾT\\nDung lượng pin 2000mah\\nTh...     4.5   132000   \n",
       "2  THÔNG TIN CHI TIẾT\\nThương hiệu Logitech\\nĐộ p...     4.8   299000   \n",
       "3  THÔNG TIN CHI TIẾT\\nThương hiệu Acome\\nXuất xứ...     4.7   149000   \n",
       "4  THÔNG TIN CHI TIẾT\\nThương hiệu Apple\\nXuất xứ...     4.8  5090000   \n",
       "\n",
       "   list_price     brand                                              group  \\\n",
       "0      300000       OEM  Thiết Bị Số - Phụ Kiện Số/Thiết Bị Âm Thanh và...   \n",
       "1      750000       OEM  Thiết Bị Số - Phụ Kiện Số/Thiết Bị Âm Thanh và...   \n",
       "2      399000  Logitech  Thiết Bị Số - Phụ Kiện Số/Phụ kiện máy tính và...   \n",
       "3      350000     Acome  Thiết Bị Số - Phụ Kiện Số/Thiết Bị Âm Thanh và...   \n",
       "4     8500000     Apple  Thiết Bị Số - Phụ Kiện Số/Thiết Bị Âm Thanh và...   \n",
       "\n",
       "                                                 url  \\\n",
       "0  https://tai-nghe-bluetooth-inpods-12-cam-bien-...   \n",
       "1  https://tai-nghe-bluetooth-khong-day-f9-true-w...   \n",
       "2  https://chuot-khong-day-logitech-m331-silent-p...   \n",
       "3  https://loa-bluetooth-5-0-kiem-dong-ho-bao-thu...   \n",
       "4  https://tai-nghe-bluetooth-apple-airpods-pro-t...   \n",
       "\n",
       "                                               image  \n",
       "0  https://salt.tikicdn.com/cache/280x280/ts/prod...  \n",
       "1  https://salt.tikicdn.com/cache/280x280/ts/prod...  \n",
       "2  https://salt.tikicdn.com/cache/280x280/media/c...  \n",
       "3  https://salt.tikicdn.com/cache/280x280/ts/prod...  \n",
       "4  https://salt.tikicdn.com/cache/280x280/ts/prod...  "
      ]
     },
     "execution_count": 3,
     "metadata": {},
     "output_type": "execute_result"
    }
   ],
   "source": [
    "products.head()"
   ]
  },
  {
   "cell_type": "code",
   "execution_count": 4,
   "id": "33a4f888",
   "metadata": {},
   "outputs": [
    {
     "name": "stdout",
     "output_type": "stream",
     "text": [
      "Number of products:  4404\n"
     ]
    }
   ],
   "source": [
    "print('Number of products: ', products.shape[0])"
   ]
  },
  {
   "cell_type": "code",
   "execution_count": 5,
   "id": "aeac14f4",
   "metadata": {},
   "outputs": [
    {
     "name": "stdout",
     "output_type": "stream",
     "text": [
      "<class 'pandas.core.frame.DataFrame'>\n",
      "RangeIndex: 4404 entries, 0 to 4403\n",
      "Data columns (total 10 columns):\n",
      " #   Column       Non-Null Count  Dtype  \n",
      "---  ------       --------------  -----  \n",
      " 0   item_id      4404 non-null   int64  \n",
      " 1   name         4404 non-null   object \n",
      " 2   description  4401 non-null   object \n",
      " 3   rating       4404 non-null   float64\n",
      " 4   price        4404 non-null   int64  \n",
      " 5   list_price   4404 non-null   int64  \n",
      " 6   brand        4404 non-null   object \n",
      " 7   group        4404 non-null   object \n",
      " 8   url          4404 non-null   object \n",
      " 9   image        4404 non-null   object \n",
      "dtypes: float64(1), int64(3), object(6)\n",
      "memory usage: 344.2+ KB\n"
     ]
    }
   ],
   "source": [
    "products.info()"
   ]
  },
  {
   "cell_type": "code",
   "execution_count": 6,
   "id": "bed053e9",
   "metadata": {},
   "outputs": [
    {
     "data": {
      "text/html": [
       "<div>\n",
       "<style scoped>\n",
       "    .dataframe tbody tr th:only-of-type {\n",
       "        vertical-align: middle;\n",
       "    }\n",
       "\n",
       "    .dataframe tbody tr th {\n",
       "        vertical-align: top;\n",
       "    }\n",
       "\n",
       "    .dataframe thead th {\n",
       "        text-align: right;\n",
       "    }\n",
       "</style>\n",
       "<table border=\"1\" class=\"dataframe\">\n",
       "  <thead>\n",
       "    <tr style=\"text-align: right;\">\n",
       "      <th></th>\n",
       "      <th>name</th>\n",
       "      <th>description</th>\n",
       "      <th>brand</th>\n",
       "      <th>group</th>\n",
       "      <th>url</th>\n",
       "      <th>image</th>\n",
       "    </tr>\n",
       "  </thead>\n",
       "  <tbody>\n",
       "    <tr>\n",
       "      <th>count</th>\n",
       "      <td>4404</td>\n",
       "      <td>4401</td>\n",
       "      <td>4404</td>\n",
       "      <td>4404</td>\n",
       "      <td>4404</td>\n",
       "      <td>4404</td>\n",
       "    </tr>\n",
       "    <tr>\n",
       "      <th>unique</th>\n",
       "      <td>4330</td>\n",
       "      <td>4370</td>\n",
       "      <td>521</td>\n",
       "      <td>248</td>\n",
       "      <td>4373</td>\n",
       "      <td>4362</td>\n",
       "    </tr>\n",
       "    <tr>\n",
       "      <th>top</th>\n",
       "      <td>Chuột Không Dây Logitech M171 - Hàng Chính Hãng</td>\n",
       "      <td>THÔNG TIN CHI TIẾT\\nThương hiệu Logitech\\nXuất...</td>\n",
       "      <td>OEM</td>\n",
       "      <td>Máy Ảnh - Máy Quay Phim/Camera Giám Sát/Camera IP</td>\n",
       "      <td>https://ban-phim-g20-led-gia-co-game-chuyen-du...</td>\n",
       "      <td>https://salt.tikicdn.com/cache/280x280/ts/prod...</td>\n",
       "    </tr>\n",
       "    <tr>\n",
       "      <th>freq</th>\n",
       "      <td>3</td>\n",
       "      <td>2</td>\n",
       "      <td>1121</td>\n",
       "      <td>236</td>\n",
       "      <td>2</td>\n",
       "      <td>2</td>\n",
       "    </tr>\n",
       "  </tbody>\n",
       "</table>\n",
       "</div>"
      ],
      "text/plain": [
       "                                                   name  \\\n",
       "count                                              4404   \n",
       "unique                                             4330   \n",
       "top     Chuột Không Dây Logitech M171 - Hàng Chính Hãng   \n",
       "freq                                                  3   \n",
       "\n",
       "                                              description brand  \\\n",
       "count                                                4401  4404   \n",
       "unique                                               4370   521   \n",
       "top     THÔNG TIN CHI TIẾT\\nThương hiệu Logitech\\nXuất...   OEM   \n",
       "freq                                                    2  1121   \n",
       "\n",
       "                                                    group  \\\n",
       "count                                                4404   \n",
       "unique                                                248   \n",
       "top     Máy Ảnh - Máy Quay Phim/Camera Giám Sát/Camera IP   \n",
       "freq                                                  236   \n",
       "\n",
       "                                                      url  \\\n",
       "count                                                4404   \n",
       "unique                                               4373   \n",
       "top     https://ban-phim-g20-led-gia-co-game-chuyen-du...   \n",
       "freq                                                    2   \n",
       "\n",
       "                                                    image  \n",
       "count                                                4404  \n",
       "unique                                               4362  \n",
       "top     https://salt.tikicdn.com/cache/280x280/ts/prod...  \n",
       "freq                                                    2  "
      ]
     },
     "execution_count": 6,
     "metadata": {},
     "output_type": "execute_result"
    }
   ],
   "source": [
    "products.describe(include='O')"
   ]
  },
  {
   "cell_type": "markdown",
   "id": "d0bca4e3",
   "metadata": {},
   "source": [
    "**Checking for duplicates if any present**"
   ]
  },
  {
   "cell_type": "code",
   "execution_count": 7,
   "id": "0e00ddf6",
   "metadata": {},
   "outputs": [
    {
     "name": "stdout",
     "output_type": "stream",
     "text": [
      "Shape before dropping duplicates:  (4404, 10)\n",
      "Shape after dropping duplicates:  (4373, 10)\n"
     ]
    }
   ],
   "source": [
    "print('Shape before dropping duplicates: ', products.shape)\n",
    "products = products.drop_duplicates()\n",
    "print('Shape after dropping duplicates: ', products.shape)"
   ]
  },
  {
   "cell_type": "markdown",
   "id": "de83a5ce",
   "metadata": {},
   "source": [
    "**Checking nulls**"
   ]
  },
  {
   "cell_type": "code",
   "execution_count": 8,
   "id": "afc81f7a",
   "metadata": {},
   "outputs": [
    {
     "name": "stdout",
     "output_type": "stream",
     "text": [
      "item_id        0\n",
      "name           0\n",
      "description    3\n",
      "rating         0\n",
      "price          0\n",
      "list_price     0\n",
      "brand          0\n",
      "group          0\n",
      "url            0\n",
      "image          0\n",
      "dtype: int64 \n",
      "\n"
     ]
    }
   ],
   "source": [
    "print(np.sum(products.isnull()), '\\n')"
   ]
  },
  {
   "cell_type": "markdown",
   "id": "0433738a",
   "metadata": {},
   "source": [
    "Chỉ có 3 sản phẩm bị thiếu 'description' => Không đáng kể"
   ]
  },
  {
   "cell_type": "markdown",
   "id": "d6d2f80d",
   "metadata": {},
   "source": [
    "**Saving the result**"
   ]
  },
  {
   "cell_type": "code",
   "execution_count": 9,
   "id": "2ddf0042",
   "metadata": {},
   "outputs": [],
   "source": [
    "products.to_csv('data/ProductNew.csv', index=False)"
   ]
  },
  {
   "cell_type": "markdown",
   "id": "8fc45760",
   "metadata": {},
   "source": [
    "## I.2. Review"
   ]
  },
  {
   "cell_type": "code",
   "execution_count": 10,
   "id": "2ba3ac9c",
   "metadata": {},
   "outputs": [],
   "source": [
    "reviews = pd.read_csv('data/ReviewRaw.zip')"
   ]
  },
  {
   "cell_type": "code",
   "execution_count": 11,
   "id": "9740f4d7",
   "metadata": {},
   "outputs": [
    {
     "data": {
      "text/html": [
       "<div>\n",
       "<style scoped>\n",
       "    .dataframe tbody tr th:only-of-type {\n",
       "        vertical-align: middle;\n",
       "    }\n",
       "\n",
       "    .dataframe tbody tr th {\n",
       "        vertical-align: top;\n",
       "    }\n",
       "\n",
       "    .dataframe thead th {\n",
       "        text-align: right;\n",
       "    }\n",
       "</style>\n",
       "<table border=\"1\" class=\"dataframe\">\n",
       "  <thead>\n",
       "    <tr style=\"text-align: right;\">\n",
       "      <th></th>\n",
       "      <th>customer_id</th>\n",
       "      <th>product_id</th>\n",
       "      <th>name</th>\n",
       "      <th>full_name</th>\n",
       "      <th>created_time</th>\n",
       "      <th>rating</th>\n",
       "      <th>title</th>\n",
       "      <th>content</th>\n",
       "    </tr>\n",
       "  </thead>\n",
       "  <tbody>\n",
       "    <tr>\n",
       "      <th>0</th>\n",
       "      <td>709310</td>\n",
       "      <td>10001012</td>\n",
       "      <td>Lân Nguyễn Hoàng</td>\n",
       "      <td>Lân Nguyễn Hoàng</td>\n",
       "      <td>NaN</td>\n",
       "      <td>3</td>\n",
       "      <td>Ko dùng đc thẻ nhớ</td>\n",
       "      <td>Lúcđầu quên thông tin nên dùng 512gb thì ko đc...</td>\n",
       "    </tr>\n",
       "    <tr>\n",
       "      <th>1</th>\n",
       "      <td>10701688</td>\n",
       "      <td>10001012</td>\n",
       "      <td>Nguyễn Khánh Hòa</td>\n",
       "      <td>Nguyễn Khánh Hòa</td>\n",
       "      <td>NaN</td>\n",
       "      <td>5</td>\n",
       "      <td>Cực kì hài lòng</td>\n",
       "      <td>Tiki giao hàng nhanh. Sản phẩm đúng như mô tả,...</td>\n",
       "    </tr>\n",
       "    <tr>\n",
       "      <th>2</th>\n",
       "      <td>11763074</td>\n",
       "      <td>10001012</td>\n",
       "      <td>Toàn Phạm Khánh</td>\n",
       "      <td>Toàn Phạm Khánh</td>\n",
       "      <td>2019-04-17 15:42:45</td>\n",
       "      <td>5</td>\n",
       "      <td>Cực kì hài lòng</td>\n",
       "      <td>chất lượng camera rõ nét, chống mưa nắng tuyệt...</td>\n",
       "    </tr>\n",
       "    <tr>\n",
       "      <th>3</th>\n",
       "      <td>9909549</td>\n",
       "      <td>10001012</td>\n",
       "      <td>Nguyen Quang Minh</td>\n",
       "      <td>NaN</td>\n",
       "      <td>NaN</td>\n",
       "      <td>5</td>\n",
       "      <td>Rất hài lòng</td>\n",
       "      <td>Hàng được đóng gói cẩn thận, giao hàng nhanh ,...</td>\n",
       "    </tr>\n",
       "    <tr>\n",
       "      <th>4</th>\n",
       "      <td>1827148</td>\n",
       "      <td>10001012</td>\n",
       "      <td>Phạm Bá Đức</td>\n",
       "      <td>Phạm Bá Đức</td>\n",
       "      <td>NaN</td>\n",
       "      <td>5</td>\n",
       "      <td>Cực kì hài lòng</td>\n",
       "      <td>dễ cài đặt, chất lượng tốt, chế độ xem hồng ng...</td>\n",
       "    </tr>\n",
       "  </tbody>\n",
       "</table>\n",
       "</div>"
      ],
      "text/plain": [
       "   customer_id  product_id               name         full_name  \\\n",
       "0       709310    10001012   Lân Nguyễn Hoàng  Lân Nguyễn Hoàng   \n",
       "1     10701688    10001012   Nguyễn Khánh Hòa  Nguyễn Khánh Hòa   \n",
       "2     11763074    10001012    Toàn Phạm Khánh   Toàn Phạm Khánh   \n",
       "3      9909549    10001012  Nguyen Quang Minh               NaN   \n",
       "4      1827148    10001012        Phạm Bá Đức       Phạm Bá Đức   \n",
       "\n",
       "          created_time  rating               title  \\\n",
       "0                  NaN       3  Ko dùng đc thẻ nhớ   \n",
       "1                  NaN       5     Cực kì hài lòng   \n",
       "2  2019-04-17 15:42:45       5     Cực kì hài lòng   \n",
       "3                  NaN       5        Rất hài lòng   \n",
       "4                  NaN       5     Cực kì hài lòng   \n",
       "\n",
       "                                             content  \n",
       "0  Lúcđầu quên thông tin nên dùng 512gb thì ko đc...  \n",
       "1  Tiki giao hàng nhanh. Sản phẩm đúng như mô tả,...  \n",
       "2  chất lượng camera rõ nét, chống mưa nắng tuyệt...  \n",
       "3  Hàng được đóng gói cẩn thận, giao hàng nhanh ,...  \n",
       "4  dễ cài đặt, chất lượng tốt, chế độ xem hồng ng...  "
      ]
     },
     "execution_count": 11,
     "metadata": {},
     "output_type": "execute_result"
    }
   ],
   "source": [
    "reviews.head()"
   ]
  },
  {
   "cell_type": "code",
   "execution_count": 12,
   "id": "77e83d7f",
   "metadata": {},
   "outputs": [
    {
     "name": "stdout",
     "output_type": "stream",
     "text": [
      "Number of reviews:  364099\n"
     ]
    }
   ],
   "source": [
    "print('Number of reviews: ', reviews.shape[0])"
   ]
  },
  {
   "cell_type": "code",
   "execution_count": 13,
   "id": "f5fe0ad7",
   "metadata": {},
   "outputs": [
    {
     "name": "stdout",
     "output_type": "stream",
     "text": [
      "<class 'pandas.core.frame.DataFrame'>\n",
      "RangeIndex: 364099 entries, 0 to 364098\n",
      "Data columns (total 8 columns):\n",
      " #   Column        Non-Null Count   Dtype \n",
      "---  ------        --------------   ----- \n",
      " 0   customer_id   364099 non-null  int64 \n",
      " 1   product_id    364099 non-null  int64 \n",
      " 2   name          363669 non-null  object\n",
      " 3   full_name     329471 non-null  object\n",
      " 4   created_time  117340 non-null  object\n",
      " 5   rating        364099 non-null  int64 \n",
      " 6   title         364070 non-null  object\n",
      " 7   content       165794 non-null  object\n",
      "dtypes: int64(3), object(5)\n",
      "memory usage: 22.2+ MB\n"
     ]
    }
   ],
   "source": [
    "reviews.info()"
   ]
  },
  {
   "cell_type": "code",
   "execution_count": 14,
   "id": "e68dbca7",
   "metadata": {},
   "outputs": [
    {
     "data": {
      "text/html": [
       "<div>\n",
       "<style scoped>\n",
       "    .dataframe tbody tr th:only-of-type {\n",
       "        vertical-align: middle;\n",
       "    }\n",
       "\n",
       "    .dataframe tbody tr th {\n",
       "        vertical-align: top;\n",
       "    }\n",
       "\n",
       "    .dataframe thead th {\n",
       "        text-align: right;\n",
       "    }\n",
       "</style>\n",
       "<table border=\"1\" class=\"dataframe\">\n",
       "  <thead>\n",
       "    <tr style=\"text-align: right;\">\n",
       "      <th></th>\n",
       "      <th>name</th>\n",
       "      <th>full_name</th>\n",
       "      <th>created_time</th>\n",
       "      <th>title</th>\n",
       "      <th>content</th>\n",
       "    </tr>\n",
       "  </thead>\n",
       "  <tbody>\n",
       "    <tr>\n",
       "      <th>count</th>\n",
       "      <td>363669</td>\n",
       "      <td>329471</td>\n",
       "      <td>117340</td>\n",
       "      <td>364070</td>\n",
       "      <td>165794</td>\n",
       "    </tr>\n",
       "    <tr>\n",
       "      <th>unique</th>\n",
       "      <td>165632</td>\n",
       "      <td>153708</td>\n",
       "      <td>92636</td>\n",
       "      <td>27480</td>\n",
       "      <td>150821</td>\n",
       "    </tr>\n",
       "    <tr>\n",
       "      <th>top</th>\n",
       "      <td>Tài khoản Zalo</td>\n",
       "      <td>Tài khoản Zalo</td>\n",
       "      <td>2018-06-29 11:50:44</td>\n",
       "      <td>Cực kì hài lòng</td>\n",
       "      <td>ok</td>\n",
       "    </tr>\n",
       "    <tr>\n",
       "      <th>freq</th>\n",
       "      <td>830</td>\n",
       "      <td>830</td>\n",
       "      <td>29</td>\n",
       "      <td>229463</td>\n",
       "      <td>1531</td>\n",
       "    </tr>\n",
       "  </tbody>\n",
       "</table>\n",
       "</div>"
      ],
      "text/plain": [
       "                  name       full_name         created_time            title  \\\n",
       "count           363669          329471               117340           364070   \n",
       "unique          165632          153708                92636            27480   \n",
       "top     Tài khoản Zalo  Tài khoản Zalo  2018-06-29 11:50:44  Cực kì hài lòng   \n",
       "freq               830             830                   29           229463   \n",
       "\n",
       "       content  \n",
       "count   165794  \n",
       "unique  150821  \n",
       "top         ok  \n",
       "freq      1531  "
      ]
     },
     "execution_count": 14,
     "metadata": {},
     "output_type": "execute_result"
    }
   ],
   "source": [
    "reviews.describe(include='O')"
   ]
  },
  {
   "cell_type": "markdown",
   "id": "a25c374f",
   "metadata": {},
   "source": [
    "**Checking for duplicates if any present**"
   ]
  },
  {
   "cell_type": "code",
   "execution_count": 15,
   "id": "ad3fc5ac",
   "metadata": {},
   "outputs": [
    {
     "name": "stdout",
     "output_type": "stream",
     "text": [
      "Shape before dropping duplicates:  (364099, 8)\n",
      "Shape after dropping duplicates:  (361750, 8)\n"
     ]
    }
   ],
   "source": [
    "print('Shape before dropping duplicates: ', reviews.shape)\n",
    "reviews = reviews.drop_duplicates()\n",
    "print('Shape after dropping duplicates: ', reviews.shape)"
   ]
  },
  {
   "cell_type": "markdown",
   "id": "052c8ea1",
   "metadata": {},
   "source": [
    "**Checking nulls**"
   ]
  },
  {
   "cell_type": "code",
   "execution_count": 16,
   "id": "c493b28b",
   "metadata": {},
   "outputs": [
    {
     "name": "stdout",
     "output_type": "stream",
     "text": [
      "customer_id          0\n",
      "product_id           0\n",
      "name               428\n",
      "full_name        34603\n",
      "created_time    245525\n",
      "rating               0\n",
      "title               29\n",
      "content         196064\n",
      "dtype: int64 \n",
      "\n"
     ]
    }
   ],
   "source": [
    "print(np.sum(reviews.isnull()), '\\n')"
   ]
  },
  {
   "cell_type": "markdown",
   "id": "9d90c761",
   "metadata": {},
   "source": [
    "Có nhiều đánh giá bị thiếu thông tin ở cột 'name', 'full_name', 'created_time', 'title' và 'content'\n",
    "- 'created_time' có dữ liệu null khá lớn\n",
    "- 'full_name' có dữ liệu null tương đối\n",
    "\n",
    "=> Cần xử lý"
   ]
  },
  {
   "cell_type": "code",
   "execution_count": 17,
   "id": "9d844662",
   "metadata": {},
   "outputs": [
    {
     "data": {
      "text/html": [
       "<div>\n",
       "<style scoped>\n",
       "    .dataframe tbody tr th:only-of-type {\n",
       "        vertical-align: middle;\n",
       "    }\n",
       "\n",
       "    .dataframe tbody tr th {\n",
       "        vertical-align: top;\n",
       "    }\n",
       "\n",
       "    .dataframe thead th {\n",
       "        text-align: right;\n",
       "    }\n",
       "</style>\n",
       "<table border=\"1\" class=\"dataframe\">\n",
       "  <thead>\n",
       "    <tr style=\"text-align: right;\">\n",
       "      <th></th>\n",
       "      <th>feature</th>\n",
       "      <th>missing_value</th>\n",
       "      <th>percentage</th>\n",
       "    </tr>\n",
       "  </thead>\n",
       "  <tbody>\n",
       "    <tr>\n",
       "      <th>0</th>\n",
       "      <td>full_name</td>\n",
       "      <td>34603</td>\n",
       "      <td>9.565446</td>\n",
       "    </tr>\n",
       "    <tr>\n",
       "      <th>1</th>\n",
       "      <td>created_time</td>\n",
       "      <td>245525</td>\n",
       "      <td>67.871458</td>\n",
       "    </tr>\n",
       "  </tbody>\n",
       "</table>\n",
       "</div>"
      ],
      "text/plain": [
       "        feature  missing_value  percentage\n",
       "0     full_name          34603    9.565446\n",
       "1  created_time         245525   67.871458"
      ]
     },
     "execution_count": 17,
     "metadata": {},
     "output_type": "execute_result"
    }
   ],
   "source": [
    "x = []\n",
    "for y in['full_name', 'created_time']:\n",
    "    x.append({\n",
    "        'feature': y,\n",
    "        'missing_value': reviews[reviews[y].isnull()].shape[0],\n",
    "        'percentage': reviews[reviews[y].isnull()].shape[0]/reviews.shape[0]*100\n",
    "    })\n",
    "\n",
    "df = pd.DataFrame(x)\n",
    "df"
   ]
  },
  {
   "cell_type": "code",
   "execution_count": 18,
   "id": "83570938",
   "metadata": {},
   "outputs": [],
   "source": [
    "# Removing feature full_name and created_time\n",
    "reviews.drop(['full_name', 'created_time'], axis=1, inplace=True)"
   ]
  },
  {
   "cell_type": "markdown",
   "id": "8dabe9b1",
   "metadata": {},
   "source": [
    "**Processing review_text**"
   ]
  },
  {
   "cell_type": "code",
   "execution_count": 20,
   "id": "2c66e152",
   "metadata": {},
   "outputs": [
    {
     "data": {
      "text/html": [
       "<div>\n",
       "<style scoped>\n",
       "    .dataframe tbody tr th:only-of-type {\n",
       "        vertical-align: middle;\n",
       "    }\n",
       "\n",
       "    .dataframe tbody tr th {\n",
       "        vertical-align: top;\n",
       "    }\n",
       "\n",
       "    .dataframe thead th {\n",
       "        text-align: right;\n",
       "    }\n",
       "</style>\n",
       "<table border=\"1\" class=\"dataframe\">\n",
       "  <thead>\n",
       "    <tr style=\"text-align: right;\">\n",
       "      <th></th>\n",
       "      <th>customer_id</th>\n",
       "      <th>product_id</th>\n",
       "      <th>name</th>\n",
       "      <th>rating</th>\n",
       "      <th>title</th>\n",
       "      <th>content</th>\n",
       "      <th>content_clean</th>\n",
       "    </tr>\n",
       "  </thead>\n",
       "  <tbody>\n",
       "    <tr>\n",
       "      <th>0</th>\n",
       "      <td>709310</td>\n",
       "      <td>10001012</td>\n",
       "      <td>Lân Nguyễn Hoàng</td>\n",
       "      <td>3</td>\n",
       "      <td>Ko dùng đc thẻ nhớ</td>\n",
       "      <td>Lúcđầu quên thông tin nên dùng 512gb thì ko đc...</td>\n",
       "      <td>lúcđầu quên thông không_đc đọc khởi tóm khởi</td>\n",
       "    </tr>\n",
       "    <tr>\n",
       "      <th>1</th>\n",
       "      <td>10701688</td>\n",
       "      <td>10001012</td>\n",
       "      <td>Nguyễn Khánh Hòa</td>\n",
       "      <td>5</td>\n",
       "      <td>Cực kì hài lòng</td>\n",
       "      <td>Tiki giao hàng nhanh. Sản phẩm đúng như mô tả,...</td>\n",
       "      <td>tốt bắt hình_ảnh rộng hài_lòng tưởng</td>\n",
       "    </tr>\n",
       "    <tr>\n",
       "      <th>2</th>\n",
       "      <td>11763074</td>\n",
       "      <td>10001012</td>\n",
       "      <td>Toàn Phạm Khánh</td>\n",
       "      <td>5</td>\n",
       "      <td>Cực kì hài lòng</td>\n",
       "      <td>chất lượng camera rõ nét, chống mưa nắng tuyệt...</td>\n",
       "      <td>chất_lượng chống disconect</td>\n",
       "    </tr>\n",
       "  </tbody>\n",
       "</table>\n",
       "</div>"
      ],
      "text/plain": [
       "   customer_id  product_id              name  rating               title  \\\n",
       "0       709310    10001012  Lân Nguyễn Hoàng       3  Ko dùng đc thẻ nhớ   \n",
       "1     10701688    10001012  Nguyễn Khánh Hòa       5     Cực kì hài lòng   \n",
       "2     11763074    10001012   Toàn Phạm Khánh       5     Cực kì hài lòng   \n",
       "\n",
       "                                             content  \\\n",
       "0  Lúcđầu quên thông tin nên dùng 512gb thì ko đc...   \n",
       "1  Tiki giao hàng nhanh. Sản phẩm đúng như mô tả,...   \n",
       "2  chất lượng camera rõ nét, chống mưa nắng tuyệt...   \n",
       "\n",
       "                                  content_clean  \n",
       "0  lúcđầu quên thông không_đc đọc khởi tóm khởi  \n",
       "1          tốt bắt hình_ảnh rộng hài_lòng tưởng  \n",
       "2                    chất_lượng chống disconect  "
      ]
     },
     "execution_count": 20,
     "metadata": {},
     "output_type": "execute_result"
    }
   ],
   "source": [
    "reviews['content_clean'] = reviews.content.apply(lambda x: func.clean_text_thesea(str(x), func.emoji_dict, func.teen_dict, func.wrong_lst, func.stopwords_lst))\n",
    "\n",
    "reviews.head(3)"
   ]
  },
  {
   "cell_type": "code",
   "execution_count": 21,
   "id": "c8449375",
   "metadata": {},
   "outputs": [],
   "source": [
    "reviews = reviews[reviews.content_clean != ' ']\n",
    "reviews = reviews[reviews.content_clean != '']"
   ]
  },
  {
   "cell_type": "markdown",
   "id": "e970c091",
   "metadata": {},
   "source": [
    "**Saving the result**"
   ]
  },
  {
   "cell_type": "code",
   "execution_count": 22,
   "id": "c7be5f25",
   "metadata": {},
   "outputs": [],
   "source": [
    "reviews.to_csv('data/ReviewNew.zip', index=False)"
   ]
  },
  {
   "cell_type": "markdown",
   "id": "7a8a3877",
   "metadata": {},
   "source": [
    "## I.3. Product - Review"
   ]
  },
  {
   "cell_type": "code",
   "execution_count": 23,
   "id": "9a0ca20b",
   "metadata": {},
   "outputs": [],
   "source": [
    "products = pd.read_csv('data/ProductNew.csv')\n",
    "reviews = pd.read_csv('data/ReviewNew.zip')"
   ]
  },
  {
   "cell_type": "markdown",
   "id": "7dcac326",
   "metadata": {},
   "source": [
    "**The products are not in the reviews**"
   ]
  },
  {
   "cell_type": "code",
   "execution_count": 24,
   "id": "56c3e34d",
   "metadata": {},
   "outputs": [
    {
     "data": {
      "text/html": [
       "<div>\n",
       "<style scoped>\n",
       "    .dataframe tbody tr th:only-of-type {\n",
       "        vertical-align: middle;\n",
       "    }\n",
       "\n",
       "    .dataframe tbody tr th {\n",
       "        vertical-align: top;\n",
       "    }\n",
       "\n",
       "    .dataframe thead th {\n",
       "        text-align: right;\n",
       "    }\n",
       "</style>\n",
       "<table border=\"1\" class=\"dataframe\">\n",
       "  <thead>\n",
       "    <tr style=\"text-align: right;\">\n",
       "      <th></th>\n",
       "      <th>customer_id</th>\n",
       "      <th>product_id</th>\n",
       "      <th>name</th>\n",
       "      <th>rating</th>\n",
       "      <th>title</th>\n",
       "      <th>content</th>\n",
       "      <th>content_clean</th>\n",
       "    </tr>\n",
       "  </thead>\n",
       "  <tbody>\n",
       "    <tr>\n",
       "      <th>63734</th>\n",
       "      <td>5687133</td>\n",
       "      <td>20845056</td>\n",
       "      <td>Lê Phương Tiến</td>\n",
       "      <td>4</td>\n",
       "      <td>Hài lòng</td>\n",
       "      <td>Hài lòng về máy sau 1 tuần dùng. Điểm trừ giao...</td>\n",
       "      <td>hài_lòng trừ quên thông khuyên sạc sài đồng_bộ...</td>\n",
       "    </tr>\n",
       "    <tr>\n",
       "      <th>63735</th>\n",
       "      <td>8344149</td>\n",
       "      <td>20845056</td>\n",
       "      <td>Luu Tri Dung</td>\n",
       "      <td>5</td>\n",
       "      <td>Tuyệt vời</td>\n",
       "      <td>Giao hàng đúng thời gian dự kiến, có 2 ngày. M...</td>\n",
       "      <td>đọc nhập không_khác phân_phối chính_thức rẻ tố...</td>\n",
       "    </tr>\n",
       "    <tr>\n",
       "      <th>63736</th>\n",
       "      <td>10671105</td>\n",
       "      <td>20845056</td>\n",
       "      <td>Nguyễn Thu Hằng</td>\n",
       "      <td>5</td>\n",
       "      <td>Cực kì hài lòng</td>\n",
       "      <td>Sản phẩm được đóng gói cẩn thận, pin dùng được...</td>\n",
       "      <td>đóng_gói giơ không_loá tích_hợp học chống gọn ...</td>\n",
       "    </tr>\n",
       "    <tr>\n",
       "      <th>63748</th>\n",
       "      <td>373425</td>\n",
       "      <td>20845056</td>\n",
       "      <td>Quân Nguyễn</td>\n",
       "      <td>2</td>\n",
       "      <td>Nên mua ở ngoài</td>\n",
       "      <td>Mình mua kindle Paperwhite 2019 được tầm cỡ 2 ...</td>\n",
       "      <td>kindle tầm_cỡ gửi sạc đọc kindle sạc không_đọc...</td>\n",
       "    </tr>\n",
       "    <tr>\n",
       "      <th>63756</th>\n",
       "      <td>1279789</td>\n",
       "      <td>20845056</td>\n",
       "      <td>Quân Trần</td>\n",
       "      <td>1</td>\n",
       "      <td>Ship chậm, máy ko active được</td>\n",
       "      <td>Tôi nhận đc sản phẩm ko active được. Khi liên ...</td>\n",
       "      <td>không_active liên_hệ báo đánh_cắp khoá không_h...</td>\n",
       "    </tr>\n",
       "    <tr>\n",
       "      <th>...</th>\n",
       "      <td>...</td>\n",
       "      <td>...</td>\n",
       "      <td>...</td>\n",
       "      <td>...</td>\n",
       "      <td>...</td>\n",
       "      <td>...</td>\n",
       "      <td>...</td>\n",
       "    </tr>\n",
       "    <tr>\n",
       "      <th>78731</th>\n",
       "      <td>13809300</td>\n",
       "      <td>12706787</td>\n",
       "      <td>Nguyễn Thanh Liêm</td>\n",
       "      <td>3</td>\n",
       "      <td>Bình thường</td>\n",
       "      <td>chắc đeo hơi đau tai hả shop, vì tai nghe kg c...</td>\n",
       "      <td>đeo hơi đau hả_shop mềm bọc</td>\n",
       "    </tr>\n",
       "    <tr>\n",
       "      <th>78732</th>\n",
       "      <td>8292666</td>\n",
       "      <td>12706787</td>\n",
       "      <td>huy tran quang</td>\n",
       "      <td>3</td>\n",
       "      <td>Bình thường</td>\n",
       "      <td>Đây là hàng chính hãng việt nam hay hàng quốc ...</td>\n",
       "      <td>quốc_tế</td>\n",
       "    </tr>\n",
       "    <tr>\n",
       "      <th>78733</th>\n",
       "      <td>6079274</td>\n",
       "      <td>12706787</td>\n",
       "      <td>Nguyễn trung hiếu</td>\n",
       "      <td>4</td>\n",
       "      <td>Hàng nghe mượt, tốt</td>\n",
       "      <td>Hàng chuẩn! Nhưng mình đang phân vân ko biết 1...</td>\n",
       "      <td>chuẩn phân_vân</td>\n",
       "    </tr>\n",
       "    <tr>\n",
       "      <th>78734</th>\n",
       "      <td>7474878</td>\n",
       "      <td>12706787</td>\n",
       "      <td>Mon Pham</td>\n",
       "      <td>5</td>\n",
       "      <td>Quá phê !!!!</td>\n",
       "      <td>Mong lần sau đừng giao hàng chậm nữa tháng như...</td>\n",
       "      <td>đừng chậm</td>\n",
       "    </tr>\n",
       "    <tr>\n",
       "      <th>78735</th>\n",
       "      <td>13144258</td>\n",
       "      <td>12706787</td>\n",
       "      <td>Đỗ Đức Việt</td>\n",
       "      <td>5</td>\n",
       "      <td>Thắc mắc</td>\n",
       "      <td>Hàng nhập khẩu với hàng VNA khác nhau gì vậy T...</td>\n",
       "      <td>nhập_khẩu</td>\n",
       "    </tr>\n",
       "  </tbody>\n",
       "</table>\n",
       "<p>588 rows × 7 columns</p>\n",
       "</div>"
      ],
      "text/plain": [
       "       customer_id  product_id                name  rating  \\\n",
       "63734      5687133    20845056      Lê Phương Tiến       4   \n",
       "63735      8344149    20845056        Luu Tri Dung       5   \n",
       "63736     10671105    20845056     Nguyễn Thu Hằng       5   \n",
       "63748       373425    20845056         Quân Nguyễn       2   \n",
       "63756      1279789    20845056           Quân Trần       1   \n",
       "...            ...         ...                 ...     ...   \n",
       "78731     13809300    12706787  Nguyễn Thanh Liêm        3   \n",
       "78732      8292666    12706787      huy tran quang       3   \n",
       "78733      6079274    12706787   Nguyễn trung hiếu       4   \n",
       "78734      7474878    12706787            Mon Pham       5   \n",
       "78735     13144258    12706787         Đỗ Đức Việt       5   \n",
       "\n",
       "                               title  \\\n",
       "63734                       Hài lòng   \n",
       "63735                      Tuyệt vời   \n",
       "63736                Cực kì hài lòng   \n",
       "63748                Nên mua ở ngoài   \n",
       "63756  Ship chậm, máy ko active được   \n",
       "...                              ...   \n",
       "78731                    Bình thường   \n",
       "78732                    Bình thường   \n",
       "78733            Hàng nghe mượt, tốt   \n",
       "78734                   Quá phê !!!!   \n",
       "78735                       Thắc mắc   \n",
       "\n",
       "                                                 content  \\\n",
       "63734  Hài lòng về máy sau 1 tuần dùng. Điểm trừ giao...   \n",
       "63735  Giao hàng đúng thời gian dự kiến, có 2 ngày. M...   \n",
       "63736  Sản phẩm được đóng gói cẩn thận, pin dùng được...   \n",
       "63748  Mình mua kindle Paperwhite 2019 được tầm cỡ 2 ...   \n",
       "63756  Tôi nhận đc sản phẩm ko active được. Khi liên ...   \n",
       "...                                                  ...   \n",
       "78731  chắc đeo hơi đau tai hả shop, vì tai nghe kg c...   \n",
       "78732  Đây là hàng chính hãng việt nam hay hàng quốc ...   \n",
       "78733  Hàng chuẩn! Nhưng mình đang phân vân ko biết 1...   \n",
       "78734  Mong lần sau đừng giao hàng chậm nữa tháng như...   \n",
       "78735  Hàng nhập khẩu với hàng VNA khác nhau gì vậy T...   \n",
       "\n",
       "                                           content_clean  \n",
       "63734  hài_lòng trừ quên thông khuyên sạc sài đồng_bộ...  \n",
       "63735  đọc nhập không_khác phân_phối chính_thức rẻ tố...  \n",
       "63736  đóng_gói giơ không_loá tích_hợp học chống gọn ...  \n",
       "63748  kindle tầm_cỡ gửi sạc đọc kindle sạc không_đọc...  \n",
       "63756  không_active liên_hệ báo đánh_cắp khoá không_h...  \n",
       "...                                                  ...  \n",
       "78731                        đeo hơi đau hả_shop mềm bọc  \n",
       "78732                                            quốc_tế  \n",
       "78733                                     chuẩn phân_vân  \n",
       "78734                                          đừng chậm  \n",
       "78735                                          nhập_khẩu  \n",
       "\n",
       "[588 rows x 7 columns]"
      ]
     },
     "execution_count": 24,
     "metadata": {},
     "output_type": "execute_result"
    }
   ],
   "source": [
    "reviews[~reviews.product_id.isin(products.item_id)]"
   ]
  },
  {
   "cell_type": "markdown",
   "id": "73e7ab54",
   "metadata": {},
   "source": [
    "**Dropping the reviews having unknown item_id**"
   ]
  },
  {
   "cell_type": "code",
   "execution_count": 25,
   "id": "7a0f0355",
   "metadata": {},
   "outputs": [],
   "source": [
    "reviews = reviews[reviews.product_id.isin(products.item_id)]"
   ]
  },
  {
   "cell_type": "code",
   "execution_count": 26,
   "id": "0c4d581d",
   "metadata": {},
   "outputs": [],
   "source": [
    "reviews.reset_index(drop=True, inplace=True)"
   ]
  },
  {
   "cell_type": "markdown",
   "id": "4e12a1f1",
   "metadata": {},
   "source": [
    "**Saving the result**"
   ]
  },
  {
   "cell_type": "code",
   "execution_count": 27,
   "id": "ebcbe628",
   "metadata": {},
   "outputs": [],
   "source": [
    "reviews.to_csv('data/ReviewNew.csv', index_label='id')\n",
    "products.to_csv('data/ProductNew.zip', index=False)"
   ]
  },
  {
   "cell_type": "code",
   "execution_count": null,
   "id": "797c8753",
   "metadata": {},
   "outputs": [],
   "source": []
  }
 ],
 "metadata": {
  "kernelspec": {
   "display_name": "Python 3",
   "language": "python",
   "name": "python3"
  },
  "language_info": {
   "codemirror_mode": {
    "name": "ipython",
    "version": 3
   },
   "file_extension": ".py",
   "mimetype": "text/x-python",
   "name": "python",
   "nbconvert_exporter": "python",
   "pygments_lexer": "ipython3",
   "version": "3.6.8"
  }
 },
 "nbformat": 4,
 "nbformat_minor": 5
}
