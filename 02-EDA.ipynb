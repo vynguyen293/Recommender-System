{
 "cells": [
  {
   "cell_type": "markdown",
   "id": "cb7a1fee",
   "metadata": {},
   "source": [
    "# Project: Recommender System"
   ]
  },
  {
   "cell_type": "markdown",
   "id": "11310cec",
   "metadata": {},
   "source": [
    "***Nguyen Thi Tuong Vy***"
   ]
  },
  {
   "cell_type": "markdown",
   "id": "627002f0",
   "metadata": {},
   "source": [
    "## II. EDA"
   ]
  },
  {
   "cell_type": "code",
   "execution_count": 1,
   "id": "a4ea1dd9",
   "metadata": {},
   "outputs": [],
   "source": [
    "import numpy as np\n",
    "import pandas as pd\n",
    "import matplotlib.pyplot as plt\n",
    "import seaborn as sns\n",
    "import sqlite3 as sql\n",
    "import warnings\n",
    "warnings.filterwarnings('ignore')"
   ]
  },
  {
   "cell_type": "markdown",
   "id": "ea853dbb",
   "metadata": {},
   "source": [
    "**Loading the data**"
   ]
  },
  {
   "cell_type": "code",
   "execution_count": 2,
   "id": "a03e2994",
   "metadata": {},
   "outputs": [],
   "source": [
    "products = pd.read_csv('data/ProductNew.csv')\n",
    "reviews = pd.read_csv('data/ReviewNew.zip')"
   ]
  },
  {
   "cell_type": "markdown",
   "id": "db8d0f4a",
   "metadata": {},
   "source": [
    "## II.1. Product"
   ]
  },
  {
   "cell_type": "code",
   "execution_count": 3,
   "id": "77c641e5",
   "metadata": {},
   "outputs": [
    {
     "data": {
      "text/html": [
       "<div>\n",
       "<style scoped>\n",
       "    .dataframe tbody tr th:only-of-type {\n",
       "        vertical-align: middle;\n",
       "    }\n",
       "\n",
       "    .dataframe tbody tr th {\n",
       "        vertical-align: top;\n",
       "    }\n",
       "\n",
       "    .dataframe thead th {\n",
       "        text-align: right;\n",
       "    }\n",
       "</style>\n",
       "<table border=\"1\" class=\"dataframe\">\n",
       "  <thead>\n",
       "    <tr style=\"text-align: right;\">\n",
       "      <th></th>\n",
       "      <th>item_id</th>\n",
       "      <th>name</th>\n",
       "      <th>description</th>\n",
       "      <th>rating</th>\n",
       "      <th>price</th>\n",
       "      <th>list_price</th>\n",
       "      <th>brand</th>\n",
       "      <th>group</th>\n",
       "      <th>url</th>\n",
       "      <th>image</th>\n",
       "    </tr>\n",
       "  </thead>\n",
       "  <tbody>\n",
       "    <tr>\n",
       "      <th>0</th>\n",
       "      <td>48102821</td>\n",
       "      <td>Tai nghe Bluetooth Inpods 12 - Cảm biến vân ta...</td>\n",
       "      <td>THÔNG TIN CHI TIẾT\\nDung lượng pin 300\\nThời g...</td>\n",
       "      <td>4.0</td>\n",
       "      <td>77000</td>\n",
       "      <td>300000</td>\n",
       "      <td>OEM</td>\n",
       "      <td>Thiết Bị Số - Phụ Kiện Số/Thiết Bị Âm Thanh và...</td>\n",
       "      <td>https://tai-nghe-bluetooth-inpods-12-cam-bien-...</td>\n",
       "      <td>https://salt.tikicdn.com/cache/280x280/ts/prod...</td>\n",
       "    </tr>\n",
       "    <tr>\n",
       "      <th>1</th>\n",
       "      <td>52333193</td>\n",
       "      <td>Tai nghe bluetooth không dây F9 True wireless ...</td>\n",
       "      <td>THÔNG TIN CHI TIẾT\\nDung lượng pin 2000mah\\nTh...</td>\n",
       "      <td>4.5</td>\n",
       "      <td>132000</td>\n",
       "      <td>750000</td>\n",
       "      <td>OEM</td>\n",
       "      <td>Thiết Bị Số - Phụ Kiện Số/Thiết Bị Âm Thanh và...</td>\n",
       "      <td>https://tai-nghe-bluetooth-khong-day-f9-true-w...</td>\n",
       "      <td>https://salt.tikicdn.com/cache/280x280/ts/prod...</td>\n",
       "    </tr>\n",
       "    <tr>\n",
       "      <th>2</th>\n",
       "      <td>299461</td>\n",
       "      <td>Chuột Không Dây Logitech M331 Silent - Hàng Ch...</td>\n",
       "      <td>THÔNG TIN CHI TIẾT\\nThương hiệu Logitech\\nĐộ p...</td>\n",
       "      <td>4.8</td>\n",
       "      <td>299000</td>\n",
       "      <td>399000</td>\n",
       "      <td>Logitech</td>\n",
       "      <td>Thiết Bị Số - Phụ Kiện Số/Phụ kiện máy tính và...</td>\n",
       "      <td>https://chuot-khong-day-logitech-m331-silent-p...</td>\n",
       "      <td>https://salt.tikicdn.com/cache/280x280/media/c...</td>\n",
       "    </tr>\n",
       "    <tr>\n",
       "      <th>3</th>\n",
       "      <td>57440329</td>\n",
       "      <td>Loa Bluetooth 5.0 Kiêm Đồng Hồ Báo Thức - [[ 2...</td>\n",
       "      <td>THÔNG TIN CHI TIẾT\\nThương hiệu Acome\\nXuất xứ...</td>\n",
       "      <td>4.7</td>\n",
       "      <td>149000</td>\n",
       "      <td>350000</td>\n",
       "      <td>Acome</td>\n",
       "      <td>Thiết Bị Số - Phụ Kiện Số/Thiết Bị Âm Thanh và...</td>\n",
       "      <td>https://loa-bluetooth-5-0-kiem-dong-ho-bao-thu...</td>\n",
       "      <td>https://salt.tikicdn.com/cache/280x280/ts/prod...</td>\n",
       "    </tr>\n",
       "    <tr>\n",
       "      <th>4</th>\n",
       "      <td>38458616</td>\n",
       "      <td>Tai Nghe Bluetooth Apple AirPods Pro True Wire...</td>\n",
       "      <td>THÔNG TIN CHI TIẾT\\nThương hiệu Apple\\nXuất xứ...</td>\n",
       "      <td>4.8</td>\n",
       "      <td>5090000</td>\n",
       "      <td>8500000</td>\n",
       "      <td>Apple</td>\n",
       "      <td>Thiết Bị Số - Phụ Kiện Số/Thiết Bị Âm Thanh và...</td>\n",
       "      <td>https://tai-nghe-bluetooth-apple-airpods-pro-t...</td>\n",
       "      <td>https://salt.tikicdn.com/cache/280x280/ts/prod...</td>\n",
       "    </tr>\n",
       "  </tbody>\n",
       "</table>\n",
       "</div>"
      ],
      "text/plain": [
       "    item_id                                               name  \\\n",
       "0  48102821  Tai nghe Bluetooth Inpods 12 - Cảm biến vân ta...   \n",
       "1  52333193  Tai nghe bluetooth không dây F9 True wireless ...   \n",
       "2    299461  Chuột Không Dây Logitech M331 Silent - Hàng Ch...   \n",
       "3  57440329  Loa Bluetooth 5.0 Kiêm Đồng Hồ Báo Thức - [[ 2...   \n",
       "4  38458616  Tai Nghe Bluetooth Apple AirPods Pro True Wire...   \n",
       "\n",
       "                                         description  rating    price  \\\n",
       "0  THÔNG TIN CHI TIẾT\\nDung lượng pin 300\\nThời g...     4.0    77000   \n",
       "1  THÔNG TIN CHI TIẾT\\nDung lượng pin 2000mah\\nTh...     4.5   132000   \n",
       "2  THÔNG TIN CHI TIẾT\\nThương hiệu Logitech\\nĐộ p...     4.8   299000   \n",
       "3  THÔNG TIN CHI TIẾT\\nThương hiệu Acome\\nXuất xứ...     4.7   149000   \n",
       "4  THÔNG TIN CHI TIẾT\\nThương hiệu Apple\\nXuất xứ...     4.8  5090000   \n",
       "\n",
       "   list_price     brand                                              group  \\\n",
       "0      300000       OEM  Thiết Bị Số - Phụ Kiện Số/Thiết Bị Âm Thanh và...   \n",
       "1      750000       OEM  Thiết Bị Số - Phụ Kiện Số/Thiết Bị Âm Thanh và...   \n",
       "2      399000  Logitech  Thiết Bị Số - Phụ Kiện Số/Phụ kiện máy tính và...   \n",
       "3      350000     Acome  Thiết Bị Số - Phụ Kiện Số/Thiết Bị Âm Thanh và...   \n",
       "4     8500000     Apple  Thiết Bị Số - Phụ Kiện Số/Thiết Bị Âm Thanh và...   \n",
       "\n",
       "                                                 url  \\\n",
       "0  https://tai-nghe-bluetooth-inpods-12-cam-bien-...   \n",
       "1  https://tai-nghe-bluetooth-khong-day-f9-true-w...   \n",
       "2  https://chuot-khong-day-logitech-m331-silent-p...   \n",
       "3  https://loa-bluetooth-5-0-kiem-dong-ho-bao-thu...   \n",
       "4  https://tai-nghe-bluetooth-apple-airpods-pro-t...   \n",
       "\n",
       "                                               image  \n",
       "0  https://salt.tikicdn.com/cache/280x280/ts/prod...  \n",
       "1  https://salt.tikicdn.com/cache/280x280/ts/prod...  \n",
       "2  https://salt.tikicdn.com/cache/280x280/media/c...  \n",
       "3  https://salt.tikicdn.com/cache/280x280/ts/prod...  \n",
       "4  https://salt.tikicdn.com/cache/280x280/ts/prod...  "
      ]
     },
     "execution_count": 3,
     "metadata": {},
     "output_type": "execute_result"
    }
   ],
   "source": [
    "products.head()"
   ]
  },
  {
   "cell_type": "code",
   "execution_count": 4,
   "id": "788da93f",
   "metadata": {},
   "outputs": [
    {
     "data": {
      "text/plain": [
       "(4373, 10)"
      ]
     },
     "execution_count": 4,
     "metadata": {},
     "output_type": "execute_result"
    }
   ],
   "source": [
    "products.shape"
   ]
  },
  {
   "cell_type": "code",
   "execution_count": 5,
   "id": "b35d6949",
   "metadata": {},
   "outputs": [
    {
     "name": "stdout",
     "output_type": "stream",
     "text": [
      "<class 'pandas.core.frame.DataFrame'>\n",
      "RangeIndex: 4373 entries, 0 to 4372\n",
      "Data columns (total 10 columns):\n",
      " #   Column       Non-Null Count  Dtype  \n",
      "---  ------       --------------  -----  \n",
      " 0   item_id      4373 non-null   int64  \n",
      " 1   name         4373 non-null   object \n",
      " 2   description  4370 non-null   object \n",
      " 3   rating       4373 non-null   float64\n",
      " 4   price        4373 non-null   int64  \n",
      " 5   list_price   4373 non-null   int64  \n",
      " 6   brand        4373 non-null   object \n",
      " 7   group        4373 non-null   object \n",
      " 8   url          4373 non-null   object \n",
      " 9   image        4373 non-null   object \n",
      "dtypes: float64(1), int64(3), object(6)\n",
      "memory usage: 341.8+ KB\n"
     ]
    }
   ],
   "source": [
    "products.info()"
   ]
  },
  {
   "cell_type": "code",
   "execution_count": 6,
   "id": "01829da2",
   "metadata": {},
   "outputs": [
    {
     "data": {
      "text/html": [
       "<div>\n",
       "<style scoped>\n",
       "    .dataframe tbody tr th:only-of-type {\n",
       "        vertical-align: middle;\n",
       "    }\n",
       "\n",
       "    .dataframe tbody tr th {\n",
       "        vertical-align: top;\n",
       "    }\n",
       "\n",
       "    .dataframe thead th {\n",
       "        text-align: right;\n",
       "    }\n",
       "</style>\n",
       "<table border=\"1\" class=\"dataframe\">\n",
       "  <thead>\n",
       "    <tr style=\"text-align: right;\">\n",
       "      <th></th>\n",
       "      <th>count</th>\n",
       "      <th>mean</th>\n",
       "      <th>std</th>\n",
       "      <th>min</th>\n",
       "      <th>25%</th>\n",
       "      <th>50%</th>\n",
       "      <th>75%</th>\n",
       "      <th>max</th>\n",
       "    </tr>\n",
       "  </thead>\n",
       "  <tbody>\n",
       "    <tr>\n",
       "      <th>price</th>\n",
       "      <td>4,373.00</td>\n",
       "      <td>2,763,501.13</td>\n",
       "      <td>5,544,076.83</td>\n",
       "      <td>7,000.00</td>\n",
       "      <td>150,000.00</td>\n",
       "      <td>487,000.00</td>\n",
       "      <td>2,680,000.00</td>\n",
       "      <td>62,690,000.00</td>\n",
       "    </tr>\n",
       "    <tr>\n",
       "      <th>list_price</th>\n",
       "      <td>4,373.00</td>\n",
       "      <td>3,893,684.92</td>\n",
       "      <td>7,900,791.25</td>\n",
       "      <td>12,000.00</td>\n",
       "      <td>279,000.00</td>\n",
       "      <td>790,000.00</td>\n",
       "      <td>3,590,000.00</td>\n",
       "      <td>82,990,000.00</td>\n",
       "    </tr>\n",
       "  </tbody>\n",
       "</table>\n",
       "</div>"
      ],
      "text/plain": [
       "              count         mean          std       min        25%        50%  \\\n",
       "price      4,373.00 2,763,501.13 5,544,076.83  7,000.00 150,000.00 487,000.00   \n",
       "list_price 4,373.00 3,893,684.92 7,900,791.25 12,000.00 279,000.00 790,000.00   \n",
       "\n",
       "                    75%           max  \n",
       "price      2,680,000.00 62,690,000.00  \n",
       "list_price 3,590,000.00 82,990,000.00  "
      ]
     },
     "execution_count": 6,
     "metadata": {},
     "output_type": "execute_result"
    }
   ],
   "source": [
    "pd.options.display.float_format = '{:,.2f}'.format\n",
    "products[['price', 'list_price']].describe().T"
   ]
  },
  {
   "cell_type": "markdown",
   "id": "14839c41",
   "metadata": {},
   "source": [
    "Giá bán của các sản phẩm chênh lệch khá lớn, khoảng giá trị rất rộng (khoảng từ 7,000 VNĐ cho đến 62,690,000 VNĐ)"
   ]
  },
  {
   "cell_type": "markdown",
   "id": "794a5951",
   "metadata": {},
   "source": [
    "### II.1.1. Price"
   ]
  },
  {
   "cell_type": "code",
   "execution_count": 7,
   "id": "963e504e",
   "metadata": {},
   "outputs": [
    {
     "data": {
      "image/png": "[encoded data removed]",
      "text/plain": [
       "<Figure size 720x432 with 2 Axes>"
      ]
     },
     "metadata": {
      "needs_background": "light"
     },
     "output_type": "display_data"
    }
   ],
   "source": [
    "fig, ax = plt.subplots(1, 2, figsize=(10, 6))\n",
    "products.price.plot(kind='hist', bins=10, ax=ax[1])\n",
    "products.price.plot(kind='box', ax=ax[0]);"
   ]
  },
  {
   "cell_type": "markdown",
   "id": "cb00d75d",
   "metadata": {},
   "source": [
    "Giá bán của các sản phẩm chênh lệch khá lớn, khoảng giá trị rất rộng (khoảng từ 7,000 VNĐ cho đến 62,690,000 VNĐ)"
   ]
  },
  {
   "cell_type": "markdown",
   "id": "e5c5a1e5",
   "metadata": {},
   "source": [
    "### II.1.2. Brand"
   ]
  },
  {
   "cell_type": "markdown",
   "id": "6d482dd5",
   "metadata": {},
   "source": [
    "**Number of products by brands**"
   ]
  },
  {
   "cell_type": "code",
   "execution_count": 8,
   "id": "d40fa925",
   "metadata": {},
   "outputs": [
    {
     "data": {
      "text/plain": [
       "brand\n",
       "OEM          1115\n",
       "Samsung       199\n",
       "Panasonic      96\n",
       "LG             96\n",
       "Sony           95\n",
       "             ... \n",
       "Klink           1\n",
       "Kplus           1\n",
       "LB-LINK         1\n",
       "LBLink          1\n",
       "\\tOEM           1\n",
       "Name: item_id, Length: 521, dtype: int64"
      ]
     },
     "execution_count": 8,
     "metadata": {},
     "output_type": "execute_result"
    }
   ],
   "source": [
    "brands = products.groupby('brand')['item_id'].count().sort_values(ascending=False)\n",
    "brands"
   ]
  },
  {
   "cell_type": "markdown",
   "id": "26147728",
   "metadata": {},
   "source": [
    "Số lượng sản phẩm của thương hiệu OEM chiếm nhiều nhất, sau đó là đến của Samsung, Panasonic, LG, Sony, ..."
   ]
  },
  {
   "cell_type": "markdown",
   "id": "d7e69d28",
   "metadata": {},
   "source": [
    "**Show the top 10 brands**"
   ]
  },
  {
   "cell_type": "code",
   "execution_count": 9,
   "id": "4077e235",
   "metadata": {},
   "outputs": [
    {
     "data": {
      "image/png": "[encoded data removed]",
      "text/plain": [
       "<Figure size 432x288 with 1 Axes>"
      ]
     },
     "metadata": {
      "needs_background": "light"
     },
     "output_type": "display_data"
    }
   ],
   "source": [
    "brands[1:11].plot(kind='bar')\n",
    "plt.ylabel('Count')\n",
    "plt.title('Top 10 brands');"
   ]
  },
  {
   "cell_type": "markdown",
   "id": "426ef34e",
   "metadata": {},
   "source": [
    "Biểu đồ cho thấy thương hiệu Samsung có số lượng sản phẩm nhiều nhất so với 9 thương hiệu còn lại trong top 10"
   ]
  },
  {
   "cell_type": "markdown",
   "id": "3f6a78ab",
   "metadata": {},
   "source": [
    "**The price of brands**"
   ]
  },
  {
   "cell_type": "code",
   "execution_count": 10,
   "id": "99fe95ea",
   "metadata": {},
   "outputs": [
    {
     "data": {
      "image/png": "[encoded data removed]",
      "text/plain": [
       "<Figure size 432x288 with 1 Axes>"
      ]
     },
     "metadata": {
      "needs_background": "light"
     },
     "output_type": "display_data"
    }
   ],
   "source": [
    "priceBrand = products.groupby(by='brand').mean()['price']\n",
    "priceBrand.sort_values(ascending=False)[:10].plot(kind='bar')\n",
    "plt.ylabel('Price')\n",
    "plt.title('The avarage price');"
   ]
  },
  {
   "cell_type": "markdown",
   "id": "d8f86a91",
   "metadata": {},
   "source": [
    "Biểu đồ cho thấy thương hiệu Hitachi có giá bán trung bình cao nhất"
   ]
  },
  {
   "cell_type": "markdown",
   "id": "b9876019",
   "metadata": {},
   "source": [
    "### II.1.3. Rating"
   ]
  },
  {
   "cell_type": "code",
   "execution_count": 11,
   "id": "b962e5c4",
   "metadata": {},
   "outputs": [
    {
     "data": {
      "image/png": "[encoded data removed]",
      "text/plain": [
       "<Figure size 360x360 with 1 Axes>"
      ]
     },
     "metadata": {
      "needs_background": "light"
     },
     "output_type": "display_data"
    }
   ],
   "source": [
    "sns.displot(products, x='rating', kind='hist');"
   ]
  },
  {
   "cell_type": "markdown",
   "id": "213ed402",
   "metadata": {},
   "source": [
    "- Biểu đồ cho thấy các sản phẩm có lượt đánh giá là 4.8-5 chiếm nhiều nhất. Tuy nhiên, lượt đánh giá là 0 cũng chiếm không ít\n",
    "- Chi tiết bên dưới đây"
   ]
  },
  {
   "cell_type": "code",
   "execution_count": 13,
   "id": "dcc5533d",
   "metadata": {},
   "outputs": [
    {
     "data": {
      "text/plain": [
       "rating\n",
       "0.00    790\n",
       "1.00     24\n",
       "1.30      2\n",
       "1.80      1\n",
       "2.00      7\n",
       "2.10      1\n",
       "2.20      2\n",
       "2.30      4\n",
       "2.50      7\n",
       "2.60      1\n",
       "2.70      6\n",
       "2.80      4\n",
       "3.00     52\n",
       "3.10      5\n",
       "3.20      9\n",
       "3.30     17\n",
       "3.40     15\n",
       "3.50     40\n",
       "3.60     23\n",
       "3.70     54\n",
       "3.80     61\n",
       "3.90     49\n",
       "4.00    204\n",
       "4.10     77\n",
       "4.20    125\n",
       "4.30    233\n",
       "4.40    191\n",
       "4.50    326\n",
       "4.60    361\n",
       "4.70    427\n",
       "4.80    442\n",
       "4.90    220\n",
       "5.00    593\n",
       "Name: item_id, dtype: int64"
      ]
     },
     "execution_count": 13,
     "metadata": {},
     "output_type": "execute_result"
    }
   ],
   "source": [
    "products.groupby(['rating'])['item_id'].count()"
   ]
  },
  {
   "cell_type": "markdown",
   "id": "e160c616",
   "metadata": {},
   "source": [
    "## II.2. Review"
   ]
  },
  {
   "cell_type": "code",
   "execution_count": 14,
   "id": "6e8153e8",
   "metadata": {},
   "outputs": [
    {
     "data": {
      "text/html": [
       "<div>\n",
       "<style scoped>\n",
       "    .dataframe tbody tr th:only-of-type {\n",
       "        vertical-align: middle;\n",
       "    }\n",
       "\n",
       "    .dataframe tbody tr th {\n",
       "        vertical-align: top;\n",
       "    }\n",
       "\n",
       "    .dataframe thead th {\n",
       "        text-align: right;\n",
       "    }\n",
       "</style>\n",
       "<table border=\"1\" class=\"dataframe\">\n",
       "  <thead>\n",
       "    <tr style=\"text-align: right;\">\n",
       "      <th></th>\n",
       "      <th>id</th>\n",
       "      <th>customer_id</th>\n",
       "      <th>product_id</th>\n",
       "      <th>name</th>\n",
       "      <th>rating</th>\n",
       "      <th>title</th>\n",
       "      <th>content</th>\n",
       "      <th>content_clean</th>\n",
       "    </tr>\n",
       "  </thead>\n",
       "  <tbody>\n",
       "    <tr>\n",
       "      <th>0</th>\n",
       "      <td>0</td>\n",
       "      <td>709310</td>\n",
       "      <td>10001012</td>\n",
       "      <td>Lân Nguyễn Hoàng</td>\n",
       "      <td>3</td>\n",
       "      <td>Ko dùng đc thẻ nhớ</td>\n",
       "      <td>Lúcđầu quên thông tin nên dùng 512gb thì ko đc...</td>\n",
       "      <td>lúcđầu quên thông không_đc đọc khởi tóm khởi</td>\n",
       "    </tr>\n",
       "    <tr>\n",
       "      <th>1</th>\n",
       "      <td>1</td>\n",
       "      <td>10701688</td>\n",
       "      <td>10001012</td>\n",
       "      <td>Nguyễn Khánh Hòa</td>\n",
       "      <td>5</td>\n",
       "      <td>Cực kì hài lòng</td>\n",
       "      <td>Tiki giao hàng nhanh. Sản phẩm đúng như mô tả,...</td>\n",
       "      <td>tốt bắt hình_ảnh rộng hài_lòng tưởng</td>\n",
       "    </tr>\n",
       "    <tr>\n",
       "      <th>2</th>\n",
       "      <td>2</td>\n",
       "      <td>11763074</td>\n",
       "      <td>10001012</td>\n",
       "      <td>Toàn Phạm Khánh</td>\n",
       "      <td>5</td>\n",
       "      <td>Cực kì hài lòng</td>\n",
       "      <td>chất lượng camera rõ nét, chống mưa nắng tuyệt...</td>\n",
       "      <td>chất_lượng chống disconect</td>\n",
       "    </tr>\n",
       "    <tr>\n",
       "      <th>3</th>\n",
       "      <td>3</td>\n",
       "      <td>9909549</td>\n",
       "      <td>10001012</td>\n",
       "      <td>Nguyen Quang Minh</td>\n",
       "      <td>5</td>\n",
       "      <td>Rất hài lòng</td>\n",
       "      <td>Hàng được đóng gói cẩn thận, giao hàng nhanh ,...</td>\n",
       "      <td>đóng_gói cẩn_thận hài_lòng</td>\n",
       "    </tr>\n",
       "    <tr>\n",
       "      <th>4</th>\n",
       "      <td>4</td>\n",
       "      <td>1827148</td>\n",
       "      <td>10001012</td>\n",
       "      <td>Phạm Bá Đức</td>\n",
       "      <td>5</td>\n",
       "      <td>Cực kì hài lòng</td>\n",
       "      <td>dễ cài đặt, chất lượng tốt, chế độ xem hồng ng...</td>\n",
       "      <td>cài_đặt tốt hồng_ngoại</td>\n",
       "    </tr>\n",
       "  </tbody>\n",
       "</table>\n",
       "</div>"
      ],
      "text/plain": [
       "   id  customer_id  product_id               name  rating               title  \\\n",
       "0   0       709310    10001012   Lân Nguyễn Hoàng       3  Ko dùng đc thẻ nhớ   \n",
       "1   1     10701688    10001012   Nguyễn Khánh Hòa       5     Cực kì hài lòng   \n",
       "2   2     11763074    10001012    Toàn Phạm Khánh       5     Cực kì hài lòng   \n",
       "3   3      9909549    10001012  Nguyen Quang Minh       5        Rất hài lòng   \n",
       "4   4      1827148    10001012        Phạm Bá Đức       5     Cực kì hài lòng   \n",
       "\n",
       "                                             content  \\\n",
       "0  Lúcđầu quên thông tin nên dùng 512gb thì ko đc...   \n",
       "1  Tiki giao hàng nhanh. Sản phẩm đúng như mô tả,...   \n",
       "2  chất lượng camera rõ nét, chống mưa nắng tuyệt...   \n",
       "3  Hàng được đóng gói cẩn thận, giao hàng nhanh ,...   \n",
       "4  dễ cài đặt, chất lượng tốt, chế độ xem hồng ng...   \n",
       "\n",
       "                                  content_clean  \n",
       "0  lúcđầu quên thông không_đc đọc khởi tóm khởi  \n",
       "1          tốt bắt hình_ảnh rộng hài_lòng tưởng  \n",
       "2                    chất_lượng chống disconect  \n",
       "3                    đóng_gói cẩn_thận hài_lòng  \n",
       "4                        cài_đặt tốt hồng_ngoại  "
      ]
     },
     "execution_count": 14,
     "metadata": {},
     "output_type": "execute_result"
    }
   ],
   "source": [
    "reviews.head()"
   ]
  },
  {
   "cell_type": "code",
   "execution_count": 15,
   "id": "54a9141e",
   "metadata": {},
   "outputs": [
    {
     "data": {
      "text/plain": [
       "(138380, 8)"
      ]
     },
     "execution_count": 15,
     "metadata": {},
     "output_type": "execute_result"
    }
   ],
   "source": [
    "reviews.shape"
   ]
  },
  {
   "cell_type": "code",
   "execution_count": 16,
   "id": "82f90383",
   "metadata": {},
   "outputs": [
    {
     "name": "stdout",
     "output_type": "stream",
     "text": [
      "<class 'pandas.core.frame.DataFrame'>\n",
      "RangeIndex: 138380 entries, 0 to 138379\n",
      "Data columns (total 8 columns):\n",
      " #   Column         Non-Null Count   Dtype \n",
      "---  ------         --------------   ----- \n",
      " 0   id             138380 non-null  int64 \n",
      " 1   customer_id    138380 non-null  int64 \n",
      " 2   product_id     138380 non-null  int64 \n",
      " 3   name           138183 non-null  object\n",
      " 4   rating         138380 non-null  int64 \n",
      " 5   title          138354 non-null  object\n",
      " 6   content        138380 non-null  object\n",
      " 7   content_clean  138380 non-null  object\n",
      "dtypes: int64(4), object(4)\n",
      "memory usage: 8.4+ MB\n"
     ]
    }
   ],
   "source": [
    "reviews.info()"
   ]
  },
  {
   "cell_type": "code",
   "execution_count": 17,
   "id": "7ba2dd01",
   "metadata": {},
   "outputs": [
    {
     "data": {
      "image/png": "[encoded data removed]",
      "text/plain": [
       "<Figure size 360x360 with 1 Axes>"
      ]
     },
     "metadata": {
      "needs_background": "light"
     },
     "output_type": "display_data"
    }
   ],
   "source": [
    "sns.displot(reviews, x='rating', kind='kde');"
   ]
  },
  {
   "cell_type": "markdown",
   "id": "6e80a35d",
   "metadata": {},
   "source": [
    "Biểu đồ cho thấy khách hàng phản hồi tốt về sản phẩm, lượt đánh giá là 5 rất cao"
   ]
  },
  {
   "cell_type": "code",
   "execution_count": 18,
   "id": "f5aa2652",
   "metadata": {},
   "outputs": [
    {
     "data": {
      "text/html": [
       "<div>\n",
       "<style scoped>\n",
       "    .dataframe tbody tr th:only-of-type {\n",
       "        vertical-align: middle;\n",
       "    }\n",
       "\n",
       "    .dataframe tbody tr th {\n",
       "        vertical-align: top;\n",
       "    }\n",
       "\n",
       "    .dataframe thead th {\n",
       "        text-align: right;\n",
       "    }\n",
       "</style>\n",
       "<table border=\"1\" class=\"dataframe\">\n",
       "  <thead>\n",
       "    <tr style=\"text-align: right;\">\n",
       "      <th></th>\n",
       "      <th>id</th>\n",
       "      <th>customer_id</th>\n",
       "      <th>product_id</th>\n",
       "      <th>name</th>\n",
       "      <th>title</th>\n",
       "      <th>content</th>\n",
       "      <th>content_clean</th>\n",
       "    </tr>\n",
       "    <tr>\n",
       "      <th>rating</th>\n",
       "      <th></th>\n",
       "      <th></th>\n",
       "      <th></th>\n",
       "      <th></th>\n",
       "      <th></th>\n",
       "      <th></th>\n",
       "      <th></th>\n",
       "    </tr>\n",
       "  </thead>\n",
       "  <tbody>\n",
       "    <tr>\n",
       "      <th>1</th>\n",
       "      <td>13741</td>\n",
       "      <td>13741</td>\n",
       "      <td>13741</td>\n",
       "      <td>13723</td>\n",
       "      <td>13738</td>\n",
       "      <td>13741</td>\n",
       "      <td>13741</td>\n",
       "    </tr>\n",
       "    <tr>\n",
       "      <th>2</th>\n",
       "      <td>5768</td>\n",
       "      <td>5768</td>\n",
       "      <td>5768</td>\n",
       "      <td>5758</td>\n",
       "      <td>5765</td>\n",
       "      <td>5768</td>\n",
       "      <td>5768</td>\n",
       "    </tr>\n",
       "    <tr>\n",
       "      <th>3</th>\n",
       "      <td>11071</td>\n",
       "      <td>11071</td>\n",
       "      <td>11071</td>\n",
       "      <td>11053</td>\n",
       "      <td>11071</td>\n",
       "      <td>11071</td>\n",
       "      <td>11071</td>\n",
       "    </tr>\n",
       "    <tr>\n",
       "      <th>4</th>\n",
       "      <td>23895</td>\n",
       "      <td>23895</td>\n",
       "      <td>23895</td>\n",
       "      <td>23856</td>\n",
       "      <td>23893</td>\n",
       "      <td>23895</td>\n",
       "      <td>23895</td>\n",
       "    </tr>\n",
       "    <tr>\n",
       "      <th>5</th>\n",
       "      <td>83905</td>\n",
       "      <td>83905</td>\n",
       "      <td>83905</td>\n",
       "      <td>83793</td>\n",
       "      <td>83887</td>\n",
       "      <td>83905</td>\n",
       "      <td>83905</td>\n",
       "    </tr>\n",
       "  </tbody>\n",
       "</table>\n",
       "</div>"
      ],
      "text/plain": [
       "           id  customer_id  product_id   name  title  content  content_clean\n",
       "rating                                                                      \n",
       "1       13741        13741       13741  13723  13738    13741          13741\n",
       "2        5768         5768        5768   5758   5765     5768           5768\n",
       "3       11071        11071       11071  11053  11071    11071          11071\n",
       "4       23895        23895       23895  23856  23893    23895          23895\n",
       "5       83905        83905       83905  83793  83887    83905          83905"
      ]
     },
     "execution_count": 18,
     "metadata": {},
     "output_type": "execute_result"
    }
   ],
   "source": [
    "reviews.groupby(['rating']).count()"
   ]
  },
  {
   "cell_type": "markdown",
   "id": "b5537ed2",
   "metadata": {},
   "source": [
    "**Show the top 10 products**"
   ]
  },
  {
   "cell_type": "code",
   "execution_count": 19,
   "id": "8a2d3e19",
   "metadata": {},
   "outputs": [
    {
     "data": {
      "image/png": "[encoded data removed]",
      "text/plain": [
       "<Figure size 432x288 with 1 Axes>"
      ]
     },
     "metadata": {
      "needs_background": "light"
     },
     "output_type": "display_data"
    }
   ],
   "source": [
    "topProducts = reviews.groupby('product_id').count()['customer_id'].sort_values(ascending=False)[:10]\n",
    "topProducts.index = products[products.item_id.isin(topProducts.index)]['name'].str[:30]\n",
    "topProducts.plot(kind='bar');"
   ]
  },
  {
   "cell_type": "markdown",
   "id": "64adf566",
   "metadata": {},
   "source": [
    "Biểu đồ cho thấy, sản phẩm nhận được nhiều đánh giá nhất là \"Chuột không dây Logitech M331\""
   ]
  },
  {
   "cell_type": "code",
   "execution_count": null,
   "id": "dd7bc983",
   "metadata": {},
   "outputs": [],
   "source": []
  }
 ],
 "metadata": {
  "kernelspec": {
   "display_name": "Python 3",
   "language": "python",
   "name": "python3"
  },
  "language_info": {
   "codemirror_mode": {
    "name": "ipython",
    "version": 3
   },
   "file_extension": ".py",
   "mimetype": "text/x-python",
   "name": "python",
   "nbconvert_exporter": "python",
   "pygments_lexer": "ipython3",
   "version": "3.6.8"
  }
 },
 "nbformat": 4,
 "nbformat_minor": 5
}
